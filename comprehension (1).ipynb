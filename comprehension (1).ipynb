{
 "cells": [
  {
   "cell_type": "code",
   "execution_count": 2,
   "id": "68056f55-598d-4a5a-82fe-730124289b31",
   "metadata": {},
   "outputs": [],
   "source": [
    "l = [1,2,3,4,56,7,8]\n",
    "l1 = []\n",
    "for i in l :\n",
    "    l1.append(i**2)"
   ]
  },
  {
   "cell_type": "code",
   "execution_count": 3,
   "id": "354ba3f5-fc7e-4ee3-a8e6-ff2cc091ddf3",
   "metadata": {},
   "outputs": [
    {
     "data": {
      "text/plain": [
       "[1, 4, 9, 16, 3136, 49, 64]"
      ]
     },
     "execution_count": 3,
     "metadata": {},
     "output_type": "execute_result"
    }
   ],
   "source": [
    "l1"
   ]
  },
  {
   "cell_type": "code",
   "execution_count": 4,
   "id": "b46e5e37-7fc6-4136-a3a5-b279f0b21479",
   "metadata": {},
   "outputs": [
    {
     "data": {
      "text/plain": [
       "[1, 2, 3, 4, 56, 7, 8]"
      ]
     },
     "execution_count": 4,
     "metadata": {},
     "output_type": "execute_result"
    }
   ],
   "source": [
    "l"
   ]
  },
  {
   "cell_type": "code",
   "execution_count": 5,
   "id": "34998bdc-4cb4-4dc0-afc2-8d85c050939b",
   "metadata": {},
   "outputs": [
    {
     "data": {
      "text/plain": [
       "[1, 4, 9, 16, 3136, 49, 64]"
      ]
     },
     "execution_count": 5,
     "metadata": {},
     "output_type": "execute_result"
    }
   ],
   "source": [
    "[i**2 for i in l ]"
   ]
  },
  {
   "cell_type": "code",
   "execution_count": 7,
   "id": "9ec78ca8-bf36-4ac6-bc52-ad14cec2c995",
   "metadata": {},
   "outputs": [
    {
     "data": {
      "text/plain": [
       "[2, 4, 56, 8]"
      ]
     },
     "execution_count": 7,
     "metadata": {},
     "output_type": "execute_result"
    }
   ],
   "source": [
    "[i for i in l if i % 2 == 0 ]"
   ]
  },
  {
   "cell_type": "code",
   "execution_count": 8,
   "id": "495cf02c-591b-4c8a-b93b-670214c30a67",
   "metadata": {},
   "outputs": [],
   "source": [
    "l1 = [\"sudh\" , \"peskills\",\"kumar\",\"data science\"]"
   ]
  },
  {
   "cell_type": "code",
   "execution_count": 9,
   "id": "b6e517ce-7d22-427a-ab79-896322a0820d",
   "metadata": {},
   "outputs": [
    {
     "data": {
      "text/plain": [
       "['SUDH', 'PESKILLS', 'KUMAR', 'DATA SCIENCE']"
      ]
     },
     "execution_count": 9,
     "metadata": {},
     "output_type": "execute_result"
    }
   ],
   "source": [
    "[i.upper() for i in l1 ]"
   ]
  },
  {
   "cell_type": "code",
   "execution_count": 10,
   "id": "06dd5b13-3529-443e-bb41-c438fa20e929",
   "metadata": {},
   "outputs": [
    {
     "data": {
      "text/plain": [
       "[1, 2, 3, 4, 56, 7, 8]"
      ]
     },
     "execution_count": 10,
     "metadata": {},
     "output_type": "execute_result"
    }
   ],
   "source": [
    "l"
   ]
  },
  {
   "cell_type": "code",
   "execution_count": 14,
   "id": "6dc93c32-66b8-4aaf-ac31-511af475a130",
   "metadata": {},
   "outputs": [
    {
     "data": {
      "text/plain": [
       "[1, 4, 9, 16, 3136, 49, 64]"
      ]
     },
     "execution_count": 14,
     "metadata": {},
     "output_type": "execute_result"
    }
   ],
   "source": [
    "list(i**2 for i in l )"
   ]
  },
  {
   "cell_type": "code",
   "execution_count": 15,
   "id": "fd93266c-8733-4b89-ab45-87c562d225d6",
   "metadata": {},
   "outputs": [],
   "source": [
    "d = {\"key1\" : 1,\"key2\" : 2, \"keys3\" :3,\"keys\" :4 }"
   ]
  },
  {
   "cell_type": "code",
   "execution_count": 20,
   "id": "f4c2d8ce-159d-426f-9345-a2a5ff321dd0",
   "metadata": {},
   "outputs": [
    {
     "data": {
      "text/plain": [
       "{'key1': 1, 'key2': 4, 'keys3': 9, 'keys': 16}"
      ]
     },
     "execution_count": 20,
     "metadata": {},
     "output_type": "execute_result"
    }
   ],
   "source": [
    "{k:v**2 for k, v in d.items()}"
   ]
  },
  {
   "cell_type": "code",
   "execution_count": 19,
   "id": "0988fd79-89ca-4d73-ae22-606fa724f95b",
   "metadata": {},
   "outputs": [
    {
     "data": {
      "text/plain": [
       "dict_items([('key1', 1), ('key2', 2), ('keys3', 3), ('keys', 4)])"
      ]
     },
     "execution_count": 19,
     "metadata": {},
     "output_type": "execute_result"
    }
   ],
   "source": [
    "d.items()"
   ]
  },
  {
   "cell_type": "code",
   "execution_count": 21,
   "id": "3d420d07-c309-432b-8620-cf56512dd19b",
   "metadata": {},
   "outputs": [
    {
     "data": {
      "text/plain": [
       "{'key1': 1, 'key2': 2, 'keys3': 3, 'keys': 4}"
      ]
     },
     "execution_count": 21,
     "metadata": {},
     "output_type": "execute_result"
    }
   ],
   "source": [
    "d"
   ]
  },
  {
   "cell_type": "code",
   "execution_count": 22,
   "id": "ce1f3d3c-da49-4879-8673-756c3b8b6882",
   "metadata": {},
   "outputs": [
    {
     "data": {
      "text/plain": [
       "{'key2': 2, 'keys3': 3, 'keys': 4}"
      ]
     },
     "execution_count": 22,
     "metadata": {},
     "output_type": "execute_result"
    }
   ],
   "source": [
    "{k:v for k , v in d.items() if v > 1}"
   ]
  },
  {
   "cell_type": "code",
   "execution_count": null,
   "id": "6581b513-46eb-4a80-9ec0-3c5de87558f3",
   "metadata": {},
   "outputs": [],
   "source": []
  }
 ],
 "metadata": {
  "kernelspec": {
   "display_name": "Python 3 (ipykernel)",
   "language": "python",
   "name": "python3"
  },
  "language_info": {
   "codemirror_mode": {
    "name": "ipython",
    "version": 3
   },
   "file_extension": ".py",
   "mimetype": "text/x-python",
   "name": "python",
   "nbconvert_exporter": "python",
   "pygments_lexer": "ipython3",
   "version": "3.10.8"
  }
 },
 "nbformat": 4,
 "nbformat_minor": 5
}
